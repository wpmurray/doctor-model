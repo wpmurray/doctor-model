{
  "nbformat": 4,
  "nbformat_minor": 0,
  "metadata": {
    "colab": {
      "provenance": []
    },
    "kernelspec": {
      "name": "python3",
      "display_name": "Python 3"
    },
    "language_info": {
      "name": "python"
    }
  },
  "cells": [
    {
      "cell_type": "code",
      "metadata": {
        "id": "AvBhz_yvJXdD"
      },
      "source": [
        "import numpy as np\n",
        "import pandas as pd\n",
        "from google.colab import drive"
      ],
      "execution_count": null,
      "outputs": []
    },
    {
      "cell_type": "markdown",
      "metadata": {
        "id": "iCVqRX4x3aEg"
      },
      "source": [
        "Read and setup data"
      ]
    },
    {
      "cell_type": "code",
      "metadata": {
        "id": "rXsh1cziP0-K"
      },
      "source": [
        "data = pd.read_excel('/content/doctors.xlsx')"
      ],
      "execution_count": null,
      "outputs": []
    },
    {
      "cell_type": "code",
      "metadata": {
        "id": "ue5NUMN8bp9E"
      },
      "source": [
        "#Encode labels to numeric id\n",
        "data['category_id'] = data['Label1'].factorize()[0]\n",
        "categoryDf = data[['Label1', 'category_id']].sort_values('category_id')\n",
        "category_to_id = dict(categoryDf.values)\n",
        "id_to_category = dict(categoryDf[['category_id', 'Label1']].values)"
      ],
      "execution_count": null,
      "outputs": []
    },
    {
      "cell_type": "code",
      "metadata": {
        "id": "WQm4pvBMdUGs",
        "colab": {
          "base_uri": "https://localhost:8080/",
          "height": 445
        },
        "outputId": "8873412d-3a15-4b1d-aaa3-d887f635a2c8"
      },
      "source": [
        "import matplotlib.pyplot as plt\n",
        "fig = plt.figure(figsize=(8,6))\n",
        "data.groupby('Label1').Name.count().plot.bar(ylim=0)\n",
        "plt.show()"
      ],
      "execution_count": null,
      "outputs": [
        {
          "output_type": "display_data",
          "data": {
            "image/png": "[encoded data removed]",
            "text/plain": [
              "<Figure size 576x432 with 1 Axes>"
            ]
          },
          "metadata": {}
        }
      ]
    },
    {
      "cell_type": "code",
      "metadata": {
        "colab": {
          "base_uri": "https://localhost:8080/"
        },
        "id": "XEVHtNpnglSa",
        "outputId": "10f98180-bae0-4e2b-87f1-6a1eefd5717a"
      },
      "source": [
        "#Determine term frequency, learn vocab, return document term matrix\n",
        "from sklearn.feature_extraction.text import TfidfVectorizer\n",
        "tfidf = TfidfVectorizer(sublinear_tf=True, min_df=5, norm='l2', encoding='latin-1', ngram_range=(1, 2), stop_words='english')\n",
        "features = tfidf.fit_transform(data.Review).toarray()\n",
        "labels = data.category_id\n",
        "features.shape"
      ],
      "execution_count": null,
      "outputs": [
        {
          "output_type": "execute_result",
          "data": {
            "text/plain": [
              "(110, 117)"
            ]
          },
          "metadata": {},
          "execution_count": 40
        }
      ]
    },
    {
      "cell_type": "code",
      "metadata": {
        "colab": {
          "base_uri": "https://localhost:8080/"
        },
        "id": "ur7_q15Zg1pL",
        "outputId": "d172d417-c6dc-4690-fee1-3db2b038f7d5"
      },
      "source": [
        "#Preform basic feature selection - most correlated words for each descriptor\n",
        "from sklearn.feature_selection import chi2\n",
        "import numpy as np\n",
        "N = 2\n",
        "for Label1, category_id in sorted(category_to_id.items()):\n",
        "  features_chi2 = chi2(features, labels == category_id)\n",
        "  indices = np.argsort(features_chi2[0])\n",
        "  feature_names = np.array(tfidf.get_feature_names())[indices]\n",
        "  unigrams = [v for v in feature_names if len(v.split(' ')) == 1]\n",
        "  bigrams = [v for v in feature_names if len(v.split(' ')) == 2]\n",
        "  print(\"# '{}':\".format(Label1))\n",
        "  print(\"  . Most correlated unigrams:\\n. {}\".format('\\n. '.join(unigrams[-N:])))\n",
        "  print(\"  . Most correlated bigrams:\\n. {}\".format('\\n. '.join(bigrams[-N:])))"
      ],
      "execution_count": null,
      "outputs": [
        {
          "output_type": "stream",
          "name": "stdout",
          "text": [
            "# 'approachable':\n",
            "  . Most correlated unigrams:\n",
            ". amin\n",
            ". knowledge\n",
            "  . Most correlated bigrams:\n",
            ". best doctor\n",
            ". dr amin\n",
            "# 'attentive':\n",
            "  . Most correlated unigrams:\n",
            ". covid\n",
            ". wait\n",
            "  . Most correlated bigrams:\n",
            ". family doctor\n",
            ". best doctor\n",
            "# 'available':\n",
            "  . Most correlated unigrams:\n",
            ". open\n",
            ". weinstein\n",
            "  . Most correlated bigrams:\n",
            ". best doctor\n",
            ". dr weinstein\n",
            "# 'caring':\n",
            "  . Most correlated unigrams:\n",
            ". caring\n",
            ". new\n",
            "  . Most correlated bigrams:\n",
            ". dr amin\n",
            ". dr eisen\n",
            "# 'committed':\n",
            "  . Most correlated unigrams:\n",
            ". understanding\n",
            ". cares\n",
            "  . Most correlated bigrams:\n",
            ". dr eisen\n",
            ". years ago\n",
            "# 'communication':\n",
            "  . Most correlated unigrams:\n",
            ". people\n",
            ". extremely\n",
            "  . Most correlated bigrams:\n",
            ". dr amin\n",
            ". bedside manner\n",
            "# 'compassionate':\n",
            "  . Most correlated unigrams:\n",
            ". rossiter\n",
            ". compassionate\n",
            "  . Most correlated bigrams:\n",
            ". bedside manner\n",
            ". dr eisen\n",
            "# 'experienced':\n",
            "  . Most correlated unigrams:\n",
            ". experience\n",
            ". amin\n",
            "  . Most correlated bigrams:\n",
            ". family doctor\n",
            ". dr amin\n",
            "# 'friendly':\n",
            "  . Most correlated unigrams:\n",
            ". just\n",
            ". like\n",
            "  . Most correlated bigrams:\n",
            ". family doctor\n",
            ". feel like\n",
            "# 'funny':\n",
            "  . Most correlated unigrams:\n",
            ". couldn\n",
            ". sense\n",
            "  . Most correlated bigrams:\n",
            ". family doctor\n",
            ". best doctor\n",
            "# 'helpful':\n",
            "  . Most correlated unigrams:\n",
            ". appointment\n",
            ". times\n",
            "  . Most correlated bigrams:\n",
            ". family doctor\n",
            ". dr amin\n",
            "# 'humble':\n",
            "  . Most correlated unigrams:\n",
            ". smart\n",
            ". doctor\n",
            "  . Most correlated bigrams:\n",
            ". family doctor\n",
            ". best doctor\n",
            "# 'innovative':\n",
            "  . Most correlated unigrams:\n",
            ". just\n",
            ". physician\n",
            "  . Most correlated bigrams:\n",
            ". family doctor\n",
            ". best doctor\n",
            "# 'kind':\n",
            "  . Most correlated unigrams:\n",
            ". ve\n",
            ". kind\n",
            "  . Most correlated bigrams:\n",
            ". thank dr\n",
            ". takes time\n",
            "# 'knowledgeable':\n",
            "  . Most correlated unigrams:\n",
            ". good\n",
            ". doctors\n",
            "  . Most correlated bigrams:\n",
            ". dr amin\n",
            ". best doctor\n",
            "# 'listener':\n",
            "  . Most correlated unigrams:\n",
            ". fantastic\n",
            ". listens\n",
            "  . Most correlated bigrams:\n",
            ". takes time\n",
            ". dr weinstein\n",
            "# 'negative':\n",
            "  . Most correlated unigrams:\n",
            ". doctor\n",
            ". wait\n",
            "  . Most correlated bigrams:\n",
            ". family doctor\n",
            ". best doctor\n",
            "# 'patient':\n",
            "  . Most correlated unigrams:\n",
            ". medical\n",
            ". old\n",
            "  . Most correlated bigrams:\n",
            ". years ago\n",
            ". feel like\n",
            "# 'punctual':\n",
            "  . Most correlated unigrams:\n",
            ". time\n",
            ". work\n",
            "  . Most correlated bigrams:\n",
            ". bedside manner\n",
            ". dr housefather\n",
            "# 'thorough':\n",
            "  . Most correlated unigrams:\n",
            ". thorough\n",
            ". actually\n",
            "  . Most correlated bigrams:\n",
            ". dr housefather\n",
            ". family doctor\n",
            "# 'trustworthy':\n",
            "  . Most correlated unigrams:\n",
            ". 20\n",
            ". comfortable\n",
            "  . Most correlated bigrams:\n",
            ". 20 years\n",
            ". makes feel\n"
          ]
        }
      ]
    },
    {
      "cell_type": "code",
      "metadata": {
        "id": "ivgveKPFJhTc"
      },
      "source": [
        "#Setup Data\n",
        "x_data = data.drop(columns=['Label1', 'Label2'])\n",
        "y_data = data[['Label1']]"
      ],
      "execution_count": null,
      "outputs": []
    },
    {
      "cell_type": "code",
      "metadata": {
        "id": "Uvh51zBqJi5B"
      },
      "source": [
        "from sklearn.model_selection import train_test_split, GridSearchCV"
      ],
      "execution_count": null,
      "outputs": []
    },
    {
      "cell_type": "code",
      "metadata": {
        "colab": {
          "base_uri": "https://localhost:8080/"
        },
        "id": "6rauo0eCJmIG",
        "outputId": "f0de53f6-2753-48e9-e71b-238b8e080c69"
      },
      "source": [
        "#Setup Testing Sets\n",
        "\n",
        "x_train, x_test, y_train, y_test = train_test_split(x_data, y_data, test_size=0.3)\n",
        "\n",
        "print(x_train.head())\n",
        "print('x training shape =', x_train.shape)\n",
        "print('y training shape =', y_train.shape)\n",
        "print('x testing shape =', x_test.shape)\n",
        "print('y testing shape =', y_test.shape)"
      ],
      "execution_count": null,
      "outputs": [
        {
          "output_type": "stream",
          "name": "stdout",
          "text": [
            "                   Name  ... category_id\n",
            "108            A Joneja  ...           2\n",
            "80           Alex Klein  ...          19\n",
            "88           Alex Klein  ...           2\n",
            "79      James Rodgerson  ...          19\n",
            "31   Leslie Housefather  ...           2\n",
            "\n",
            "[5 rows x 8 columns]\n",
            "x training shape = (77, 8)\n",
            "y training shape = (77, 1)\n",
            "x testing shape = (33, 8)\n",
            "y testing shape = (33, 1)\n"
          ]
        }
      ]
    },
    {
      "cell_type": "code",
      "metadata": {
        "colab": {
          "base_uri": "https://localhost:8080/",
          "height": 517
        },
        "id": "iX0XLwjsEU9V",
        "outputId": "7ef54329-4439-4b29-de0f-779e11da035c"
      },
      "source": [
        "from sklearn.linear_model import LogisticRegression\n",
        "from sklearn.ensemble import RandomForestClassifier\n",
        "from sklearn.svm import LinearSVC\n",
        "from sklearn.model_selection import cross_val_score\n",
        "models = [\n",
        "    RandomForestClassifier(n_estimators=200, max_depth=3, random_state=0),\n",
        "    LinearSVC(),\n",
        "    MultinomialNB(),\n",
        "    LogisticRegression(random_state=0),\n",
        "]\n",
        "CV = 5\n",
        "cv_df = pd.DataFrame(index=range(CV * len(models)))\n",
        "entries = []\n",
        "for model in models:\n",
        "  model_name = model.__class__.__name__\n",
        "  accuracies = cross_val_score(model, features, labels, scoring='accuracy', cv=CV)\n",
        "  for fold_idx, accuracy in enumerate(accuracies):\n",
        "    entries.append((model_name, fold_idx, accuracy))\n",
        "cv_df = pd.DataFrame(entries, columns=['model', 'fold_idx', 'accuracy'])\n",
        "import seaborn as sns\n",
        "sns.boxplot(x='model', y='accuracy', data=cv_df)\n",
        "sns.stripplot(x='model', y='accuracy', data=cv_df, \n",
        "              size=8, jitter=True, edgecolor=\"gray\", linewidth=2)\n",
        "plt.show()"
      ],
      "execution_count": null,
      "outputs": [
        {
          "output_type": "stream",
          "name": "stderr",
          "text": [
            "/usr/local/lib/python3.7/dist-packages/sklearn/model_selection/_split.py:667: UserWarning: The least populated class in y has only 1 members, which is less than n_splits=5.\n",
            "  % (min_groups, self.n_splits)), UserWarning)\n",
            "/usr/local/lib/python3.7/dist-packages/sklearn/model_selection/_split.py:667: UserWarning: The least populated class in y has only 1 members, which is less than n_splits=5.\n",
            "  % (min_groups, self.n_splits)), UserWarning)\n",
            "/usr/local/lib/python3.7/dist-packages/sklearn/model_selection/_split.py:667: UserWarning: The least populated class in y has only 1 members, which is less than n_splits=5.\n",
            "  % (min_groups, self.n_splits)), UserWarning)\n",
            "/usr/local/lib/python3.7/dist-packages/sklearn/model_selection/_split.py:667: UserWarning: The least populated class in y has only 1 members, which is less than n_splits=5.\n",
            "  % (min_groups, self.n_splits)), UserWarning)\n"
          ]
        },
        {
          "output_type": "display_data",
          "data": {
            "image/png": "[encoded data removed]",
            "text/plain": [
              "<Figure size 576x396 with 1 Axes>"
            ]
          },
          "metadata": {}
        }
      ]
    },
    {
      "cell_type": "code",
      "metadata": {
        "id": "691-_fHOh6J2"
      },
      "source": [
        "from sklearn.model_selection import train_test_split\n",
        "from sklearn.feature_extraction.text import CountVectorizer\n",
        "from sklearn.feature_extraction.text import TfidfTransformer\n",
        "from sklearn.naive_bayes import MultinomialNB\n",
        "X_train, X_test, y_train, y_test = train_test_split(data['Review'], data['Label1'], random_state = 0)\n",
        "count_vect = CountVectorizer()\n",
        "X_train_counts = count_vect.fit_transform(X_train)\n",
        "tfidf_transformer = TfidfTransformer()\n",
        "X_train_tfidf = tfidf_transformer.fit_transform(X_train_counts)\n",
        "clf = RandomForestClassifier().fit(X_train_tfidf, y_train)"
      ],
      "execution_count": null,
      "outputs": []
    },
    {
      "cell_type": "code",
      "metadata": {
        "colab": {
          "base_uri": "https://localhost:8080/"
        },
        "id": "LFPxTZnqiTNu",
        "outputId": "b5fb6ba2-0bc1-4ff8-aea7-bafe3f1ffb9e"
      },
      "source": [
        "print(clf.predict(count_vect.transform([\"patient and humble, great communicator this guy was super funny and I loved being in his office\"])))"
      ],
      "execution_count": null,
      "outputs": [
        {
          "output_type": "stream",
          "name": "stdout",
          "text": [
            "['kind']\n"
          ]
        }
      ]
    },
    {
      "cell_type": "code",
      "metadata": {
        "colab": {
          "base_uri": "https://localhost:8080/"
        },
        "id": "sCDuhuFREko4",
        "outputId": "b88d8237-59b9-4759-dc26-7ec6c1498fbd"
      },
      "source": [
        "cv_df.groupby('model').accuracy.mean()"
      ],
      "execution_count": null,
      "outputs": [
        {
          "output_type": "execute_result",
          "data": {
            "text/plain": [
              "model\n",
              "LinearSVC                 0.254545\n",
              "LogisticRegression        0.236364\n",
              "MultinomialNB             0.200000\n",
              "RandomForestClassifier    0.354545\n",
              "Name: accuracy, dtype: float64"
            ]
          },
          "metadata": {},
          "execution_count": 49
        }
      ]
    },
    {
      "cell_type": "code",
      "metadata": {
        "colab": {
          "base_uri": "https://localhost:8080/",
          "height": 667
        },
        "id": "rA2A4ivDEr1q",
        "outputId": "51d9229a-2d7c-4132-b845-2ac9f0ebe0e5"
      },
      "source": [
        "model = RandomForestClassifier()\n",
        "X_train, X_test, y_train, y_test, indices_train, indices_test = train_test_split(features, labels, data.index, test_size=0.33, random_state=0)\n",
        "model.fit(X_train, y_train)\n",
        "y_pred = model.predict(X_test)\n",
        "from sklearn.metrics import confusion_matrix\n",
        "conf_mat = confusion_matrix(y_test, y_pred)\n",
        "fig, ax = plt.subplots(figsize=(10,10))\n",
        "tn = ['thorough', 'patient', 'knowledgeable', 'compassionate', 'available', 'listener', \n",
        "                'funny', 'caring', 'committed', 'kind', 'trustworthy', 'punctual', \n",
        "                'negative', 'helpful', 'communication']\n",
        "sns.heatmap(conf_mat, annot=True, fmt='d',\n",
        "            xticklabels=tn, yticklabels=tn)\n",
        "plt.ylabel('Actual')\n",
        "plt.xlabel('Predicted')\n",
        "plt.show()"
      ],
      "execution_count": null,
      "outputs": [
        {
          "output_type": "display_data",
          "data": {
            "image/png": "[encoded data removed]",
            "text/plain": [
              "<Figure size 720x720 with 2 Axes>"
            ]
          },
          "metadata": {}
        }
      ]
    },
    {
      "cell_type": "markdown",
      "metadata": {
        "id": "AY64ZP-L8RZz"
      },
      "source": [
        "Find other metrics *"
      ]
    },
    {
      "cell_type": "code",
      "metadata": {
        "id": "2VDBPKgb2kbL",
        "colab": {
          "base_uri": "https://localhost:8080/",
          "height": 232
        },
        "outputId": "1238656a-fb17-48b0-f134-0923984bc542"
      },
      "source": [
        "import matplotlib.pyplot as plt\n",
        "\n",
        "plt.style.use('seaborn')\n",
        "plt.plot(train_sizes, train_scores_mean, label = 'Training error')\n",
        "plt.plot(train_sizes, validation_scores_mean, label = 'Validation error')\n",
        "plt.ylabel('MSE', fontsize = 14)\n",
        "plt.xlabel('Training set size', fontsize = 14)\n",
        "plt.title('Learning curves for a linear regression model', fontsize = 18, y = 1.03)\n",
        "plt.legend()\n",
        "plt.ylim(0,40)"
      ],
      "execution_count": null,
      "outputs": [
        {
          "output_type": "error",
          "ename": "NameError",
          "evalue": "ignored",
          "traceback": [
            "\u001b[0;31m---------------------------------------------------------------------------\u001b[0m",
            "\u001b[0;31mNameError\u001b[0m                                 Traceback (most recent call last)",
            "\u001b[0;32m<ipython-input-33-c3adbd5a4c25>\u001b[0m in \u001b[0;36m<module>\u001b[0;34m()\u001b[0m\n\u001b[1;32m      2\u001b[0m \u001b[0;34m\u001b[0m\u001b[0m\n\u001b[1;32m      3\u001b[0m \u001b[0mplt\u001b[0m\u001b[0;34m.\u001b[0m\u001b[0mstyle\u001b[0m\u001b[0;34m.\u001b[0m\u001b[0muse\u001b[0m\u001b[0;34m(\u001b[0m\u001b[0;34m'seaborn'\u001b[0m\u001b[0;34m)\u001b[0m\u001b[0;34m\u001b[0m\u001b[0;34m\u001b[0m\u001b[0m\n\u001b[0;32m----> 4\u001b[0;31m \u001b[0mplt\u001b[0m\u001b[0;34m.\u001b[0m\u001b[0mplot\u001b[0m\u001b[0;34m(\u001b[0m\u001b[0mtrain_sizes\u001b[0m\u001b[0;34m,\u001b[0m \u001b[0mtrain_scores_mean\u001b[0m\u001b[0;34m,\u001b[0m \u001b[0mlabel\u001b[0m \u001b[0;34m=\u001b[0m \u001b[0;34m'Training error'\u001b[0m\u001b[0;34m)\u001b[0m\u001b[0;34m\u001b[0m\u001b[0;34m\u001b[0m\u001b[0m\n\u001b[0m\u001b[1;32m      5\u001b[0m \u001b[0mplt\u001b[0m\u001b[0;34m.\u001b[0m\u001b[0mplot\u001b[0m\u001b[0;34m(\u001b[0m\u001b[0mtrain_sizes\u001b[0m\u001b[0;34m,\u001b[0m \u001b[0mvalidation_scores_mean\u001b[0m\u001b[0;34m,\u001b[0m \u001b[0mlabel\u001b[0m \u001b[0;34m=\u001b[0m \u001b[0;34m'Validation error'\u001b[0m\u001b[0;34m)\u001b[0m\u001b[0;34m\u001b[0m\u001b[0;34m\u001b[0m\u001b[0m\n\u001b[1;32m      6\u001b[0m \u001b[0mplt\u001b[0m\u001b[0;34m.\u001b[0m\u001b[0mylabel\u001b[0m\u001b[0;34m(\u001b[0m\u001b[0;34m'MSE'\u001b[0m\u001b[0;34m,\u001b[0m \u001b[0mfontsize\u001b[0m \u001b[0;34m=\u001b[0m \u001b[0;36m14\u001b[0m\u001b[0;34m)\u001b[0m\u001b[0;34m\u001b[0m\u001b[0;34m\u001b[0m\u001b[0m\n",
            "\u001b[0;31mNameError\u001b[0m: name 'train_sizes' is not defined"
          ]
        }
      ]
    },
    {
      "cell_type": "code",
      "metadata": {
        "colab": {
          "base_uri": "https://localhost:8080/",
          "height": 351
        },
        "id": "TMbH7OxuGBqS",
        "outputId": "6988f08d-5a3e-433f-c82a-ccf1e1a216c7"
      },
      "source": [
        "from sklearn import metrics\n",
        "target_names = ['thorough', 'patient', 'knowledgeable', 'compassionate', 'available', 'listener', \n",
        "                'funny', 'caring', 'humble', 'committed', 'kind', 'trustworthy', 'punctual', 'attentive',\n",
        "                'negative', 'helpful', 'approachable', 'communication', 'experienced', 'friendly',\n",
        "                'patient', 'innovative']\n",
        "tn = ['thorough', 'patient', 'knowledgeable', 'compassionate', 'available', 'listener', \n",
        "                'funny', 'caring', 'committed', 'kind', 'trustworthy', 'punctual', \n",
        "                'negative', 'helpful', 'communication']  \n",
        "print(metrics.classification_report(y_test, y_pred, target_names=tn))\n",
        "#humble#8 attentive#13 helpful#15 approachable#16 #18experienced #19friendly #21innovative"
      ],
      "execution_count": null,
      "outputs": [
        {
          "output_type": "error",
          "ename": "ValueError",
          "evalue": "ignored",
          "traceback": [
            "\u001b[0;31m---------------------------------------------------------------------------\u001b[0m",
            "\u001b[0;31mValueError\u001b[0m                                Traceback (most recent call last)",
            "\u001b[0;32m<ipython-input-32-f26afad24ad3>\u001b[0m in \u001b[0;36m<module>\u001b[0;34m()\u001b[0m\n\u001b[1;32m      7\u001b[0m                 \u001b[0;34m'funny'\u001b[0m\u001b[0;34m,\u001b[0m \u001b[0;34m'caring'\u001b[0m\u001b[0;34m,\u001b[0m \u001b[0;34m'committed'\u001b[0m\u001b[0;34m,\u001b[0m \u001b[0;34m'kind'\u001b[0m\u001b[0;34m,\u001b[0m \u001b[0;34m'trustworthy'\u001b[0m\u001b[0;34m,\u001b[0m \u001b[0;34m'punctual'\u001b[0m\u001b[0;34m,\u001b[0m\u001b[0;34m\u001b[0m\u001b[0;34m\u001b[0m\u001b[0m\n\u001b[1;32m      8\u001b[0m                 'negative', 'helpful', 'communication']  \n\u001b[0;32m----> 9\u001b[0;31m \u001b[0mprint\u001b[0m\u001b[0;34m(\u001b[0m\u001b[0mmetrics\u001b[0m\u001b[0;34m.\u001b[0m\u001b[0mclassification_report\u001b[0m\u001b[0;34m(\u001b[0m\u001b[0my_test\u001b[0m\u001b[0;34m,\u001b[0m \u001b[0my_pred\u001b[0m\u001b[0;34m,\u001b[0m \u001b[0mtarget_names\u001b[0m\u001b[0;34m=\u001b[0m\u001b[0mtn\u001b[0m\u001b[0;34m)\u001b[0m\u001b[0;34m)\u001b[0m\u001b[0;34m\u001b[0m\u001b[0;34m\u001b[0m\u001b[0m\n\u001b[0m\u001b[1;32m     10\u001b[0m \u001b[0;31m#humble#8 attentive#13 helpful#15 approachable#16 #18experienced #19friendly #21innovative\u001b[0m\u001b[0;34m\u001b[0m\u001b[0;34m\u001b[0m\u001b[0;34m\u001b[0m\u001b[0m\n",
            "\u001b[0;32m/usr/local/lib/python3.7/dist-packages/sklearn/metrics/_classification.py\u001b[0m in \u001b[0;36mclassification_report\u001b[0;34m(y_true, y_pred, labels, target_names, sample_weight, digits, output_dict, zero_division)\u001b[0m\n\u001b[1;32m   1993\u001b[0m                 \u001b[0;34m\"Number of classes, {0}, does not match size of \"\u001b[0m\u001b[0;34m\u001b[0m\u001b[0;34m\u001b[0m\u001b[0m\n\u001b[1;32m   1994\u001b[0m                 \u001b[0;34m\"target_names, {1}. Try specifying the labels \"\u001b[0m\u001b[0;34m\u001b[0m\u001b[0;34m\u001b[0m\u001b[0m\n\u001b[0;32m-> 1995\u001b[0;31m                 \u001b[0;34m\"parameter\"\u001b[0m\u001b[0;34m.\u001b[0m\u001b[0mformat\u001b[0m\u001b[0;34m(\u001b[0m\u001b[0mlen\u001b[0m\u001b[0;34m(\u001b[0m\u001b[0mlabels\u001b[0m\u001b[0;34m)\u001b[0m\u001b[0;34m,\u001b[0m \u001b[0mlen\u001b[0m\u001b[0;34m(\u001b[0m\u001b[0mtarget_names\u001b[0m\u001b[0;34m)\u001b[0m\u001b[0;34m)\u001b[0m\u001b[0;34m\u001b[0m\u001b[0;34m\u001b[0m\u001b[0m\n\u001b[0m\u001b[1;32m   1996\u001b[0m             )\n\u001b[1;32m   1997\u001b[0m     \u001b[0;32mif\u001b[0m \u001b[0mtarget_names\u001b[0m \u001b[0;32mis\u001b[0m \u001b[0;32mNone\u001b[0m\u001b[0;34m:\u001b[0m\u001b[0;34m\u001b[0m\u001b[0;34m\u001b[0m\u001b[0m\n",
            "\u001b[0;31mValueError\u001b[0m: Number of classes, 13, does not match size of target_names, 15. Try specifying the labels parameter"
          ]
        }
      ]
    },
    {
      "cell_type": "code",
      "metadata": {
        "id": "GsN1p0peJm0I"
      },
      "source": [
        "from sklearn.compose import ColumnTransformer\n",
        "from sklearn.pipeline import Pipeline\n",
        "from sklearn.impute import SimpleImputer\n",
        "from sklearn.preprocessing import RobustScaler, OneHotEncoder"
      ],
      "execution_count": null,
      "outputs": []
    },
    {
      "cell_type": "code",
      "metadata": {
        "id": "_e3QouZkJpR2"
      },
      "source": [
        "#Setup Preprocessing \n",
        "numeric_features = ['Staff', 'Punctuality', 'Helpfulness', 'Knowledge', 'Rating']\n",
        "numeric_transformer = Pipeline(steps=[\n",
        "    ('imputer', SimpleImputer(strategy='median')),\n",
        "    ('scaler', RobustScaler())])\n",
        "\n",
        "categorical_features = ['Name', 'Review']\n",
        "categorical_transformer = Pipeline(steps=[\n",
        "    ('imputer', SimpleImputer(strategy='constant', fill_value='missing')),\n",
        "    ('onehot', OneHotEncoder(handle_unknown='ignore'))])\n",
        "\n",
        "preprocessor = ColumnTransformer(\n",
        "    transformers=[\n",
        "        ('num', numeric_transformer, numeric_features),\n",
        "        ('cat', categorical_transformer, categorical_features)])"
      ],
      "execution_count": null,
      "outputs": []
    },
    {
      "cell_type": "code",
      "metadata": {
        "id": "izjdAaoVJsTU"
      },
      "source": [
        "from sklearn.neighbors import KNeighborsRegressor\n",
        "from sklearn.feature_selection import SelectFromModel\n",
        "from sklearn.decomposition import TruncatedSVD\n",
        "from sklearn.naive_bayes import GaussianNB\n",
        "from sklearn.ensemble import GradientBoostingRegressor"
      ],
      "execution_count": null,
      "outputs": []
    },
    {
      "cell_type": "code",
      "metadata": {
        "id": "ioLT5NgmJur4"
      },
      "source": [
        "#Setup model\n",
        "regr = Pipeline(steps=[('preprocessor', preprocessor),\n",
        "                       ('regressor', KNeighborsRegressor())])\n",
        "\n",
        "x_train = x_train[[*numeric_features, *categorical_features]]\n",
        "x_test = x_test[[*numeric_features, *categorical_features]]\n",
        "\n",
        "param_grid = {\n",
        "    'preprocessor__num__imputer__strategy': ['mean'],\n",
        "    'regressor__n_neighbors': [10]\n",
        "}\n",
        "\n",
        "grid_search = GridSearchCV(\n",
        "    regr, param_grid, cv=5, verbose=3, n_jobs=2\n",
        ")"
      ],
      "execution_count": null,
      "outputs": []
    },
    {
      "cell_type": "code",
      "metadata": {
        "colab": {
          "base_uri": "https://localhost:8080/",
          "height": 307
        },
        "id": "nt_MM2iSJwY5",
        "outputId": "073ef644-a971-4ea4-db13-96e1930b1c0f"
      },
      "source": [
        "model = grid_search.fit(x_train, y_train)"
      ],
      "execution_count": null,
      "outputs": [
        {
          "output_type": "error",
          "ename": "ValueError",
          "evalue": "ignored",
          "traceback": [
            "\u001b[0;31m---------------------------------------------------------------------------\u001b[0m",
            "\u001b[0;31mValueError\u001b[0m                                Traceback (most recent call last)",
            "\u001b[0;32m<ipython-input-20-da16408e9c64>\u001b[0m in \u001b[0;36m<module>\u001b[0;34m()\u001b[0m\n\u001b[0;32m----> 1\u001b[0;31m \u001b[0mmodel\u001b[0m \u001b[0;34m=\u001b[0m \u001b[0mgrid_search\u001b[0m\u001b[0;34m.\u001b[0m\u001b[0mfit\u001b[0m\u001b[0;34m(\u001b[0m\u001b[0mx_train\u001b[0m\u001b[0;34m,\u001b[0m \u001b[0my_train\u001b[0m\u001b[0;34m)\u001b[0m\u001b[0;34m\u001b[0m\u001b[0;34m\u001b[0m\u001b[0m\n\u001b[0m",
            "\u001b[0;32m/usr/local/lib/python3.7/dist-packages/sklearn/model_selection/_search.py\u001b[0m in \u001b[0;36mfit\u001b[0;34m(self, X, y, groups, **fit_params)\u001b[0m\n\u001b[1;32m    648\u001b[0m             \u001b[0mrefit_metric\u001b[0m \u001b[0;34m=\u001b[0m \u001b[0;34m'score'\u001b[0m\u001b[0;34m\u001b[0m\u001b[0;34m\u001b[0m\u001b[0m\n\u001b[1;32m    649\u001b[0m \u001b[0;34m\u001b[0m\u001b[0m\n\u001b[0;32m--> 650\u001b[0;31m         \u001b[0mX\u001b[0m\u001b[0;34m,\u001b[0m \u001b[0my\u001b[0m\u001b[0;34m,\u001b[0m \u001b[0mgroups\u001b[0m \u001b[0;34m=\u001b[0m \u001b[0mindexable\u001b[0m\u001b[0;34m(\u001b[0m\u001b[0mX\u001b[0m\u001b[0;34m,\u001b[0m \u001b[0my\u001b[0m\u001b[0;34m,\u001b[0m \u001b[0mgroups\u001b[0m\u001b[0;34m)\u001b[0m\u001b[0;34m\u001b[0m\u001b[0;34m\u001b[0m\u001b[0m\n\u001b[0m\u001b[1;32m    651\u001b[0m         \u001b[0mfit_params\u001b[0m \u001b[0;34m=\u001b[0m \u001b[0m_check_fit_params\u001b[0m\u001b[0;34m(\u001b[0m\u001b[0mX\u001b[0m\u001b[0;34m,\u001b[0m \u001b[0mfit_params\u001b[0m\u001b[0;34m)\u001b[0m\u001b[0;34m\u001b[0m\u001b[0;34m\u001b[0m\u001b[0m\n\u001b[1;32m    652\u001b[0m \u001b[0;34m\u001b[0m\u001b[0m\n",
            "\u001b[0;32m/usr/local/lib/python3.7/dist-packages/sklearn/utils/validation.py\u001b[0m in \u001b[0;36mindexable\u001b[0;34m(*iterables)\u001b[0m\n\u001b[1;32m    246\u001b[0m     \"\"\"\n\u001b[1;32m    247\u001b[0m     \u001b[0mresult\u001b[0m \u001b[0;34m=\u001b[0m \u001b[0;34m[\u001b[0m\u001b[0m_make_indexable\u001b[0m\u001b[0;34m(\u001b[0m\u001b[0mX\u001b[0m\u001b[0;34m)\u001b[0m \u001b[0;32mfor\u001b[0m \u001b[0mX\u001b[0m \u001b[0;32min\u001b[0m \u001b[0miterables\u001b[0m\u001b[0;34m]\u001b[0m\u001b[0;34m\u001b[0m\u001b[0;34m\u001b[0m\u001b[0m\n\u001b[0;32m--> 248\u001b[0;31m     \u001b[0mcheck_consistent_length\u001b[0m\u001b[0;34m(\u001b[0m\u001b[0;34m*\u001b[0m\u001b[0mresult\u001b[0m\u001b[0;34m)\u001b[0m\u001b[0;34m\u001b[0m\u001b[0;34m\u001b[0m\u001b[0m\n\u001b[0m\u001b[1;32m    249\u001b[0m     \u001b[0;32mreturn\u001b[0m \u001b[0mresult\u001b[0m\u001b[0;34m\u001b[0m\u001b[0;34m\u001b[0m\u001b[0m\n\u001b[1;32m    250\u001b[0m \u001b[0;34m\u001b[0m\u001b[0m\n",
            "\u001b[0;32m/usr/local/lib/python3.7/dist-packages/sklearn/utils/validation.py\u001b[0m in \u001b[0;36mcheck_consistent_length\u001b[0;34m(*arrays)\u001b[0m\n\u001b[1;32m    210\u001b[0m     \u001b[0;32mif\u001b[0m \u001b[0mlen\u001b[0m\u001b[0;34m(\u001b[0m\u001b[0muniques\u001b[0m\u001b[0;34m)\u001b[0m \u001b[0;34m>\u001b[0m \u001b[0;36m1\u001b[0m\u001b[0;34m:\u001b[0m\u001b[0;34m\u001b[0m\u001b[0;34m\u001b[0m\u001b[0m\n\u001b[1;32m    211\u001b[0m         raise ValueError(\"Found input variables with inconsistent numbers of\"\n\u001b[0;32m--> 212\u001b[0;31m                          \" samples: %r\" % [int(l) for l in lengths])\n\u001b[0m\u001b[1;32m    213\u001b[0m \u001b[0;34m\u001b[0m\u001b[0m\n\u001b[1;32m    214\u001b[0m \u001b[0;34m\u001b[0m\u001b[0m\n",
            "\u001b[0;31mValueError\u001b[0m: Found input variables with inconsistent numbers of samples: [77, 73]"
          ]
        }
      ]
    },
    {
      "cell_type": "code",
      "metadata": {
        "id": "BvPqUVEEJxBX"
      },
      "source": [
        "from sklearn.metrics import r2_score"
      ],
      "execution_count": null,
      "outputs": []
    },
    {
      "cell_type": "code",
      "metadata": {
        "id": "CfpKxp0oJycw"
      },
      "source": [
        "mpreds = model.predict(x_test)\n",
        "sc = r2_score(y_test['usd_pledged_real'],mpreds)\n",
        "print(sc)"
      ],
      "execution_count": null,
      "outputs": []
    }
  ]
}